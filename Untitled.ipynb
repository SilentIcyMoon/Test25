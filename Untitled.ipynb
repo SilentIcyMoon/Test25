{
 "cells": [
  {
   "cell_type": "code",
   "execution_count": 1,
   "id": "11557dee-21d1-4945-9596-0203631934fd",
   "metadata": {},
   "outputs": [],
   "source": [
    "import os\n",
    "\n",
    "def index_wav_files(base_path):\n",
    "    # Check if the given base path exists\n",
    "    if not os.path.exists(base_path):\n",
    "        print(f\"The path {base_path} does not exist.\")\n",
    "        return\n",
    "\n",
    "    # Iterate over each directory in the base path\n",
    "    for dir_name in os.listdir(base_path):\n",
    "        dir_path = os.path.join(base_path, dir_name)\n",
    "        if os.path.isdir(dir_path):\n",
    "            # List all .wav files in the directory\n",
    "            wav_files = [f for f in os.listdir(dir_path) if f.endswith('.wav')]\n",
    "            wav_files.sort()\n",
    "\n",
    "            # Write the sorted file names with full path to a .list file\n",
    "            list_file_path = os.path.join(base_path, f\"{dir_name}.list\")\n",
    "            with open(list_file_path, 'w') as file:\n",
    "                for wav_file in wav_files:\n",
    "                    file_path = os.path.join(base_path, dir_name, wav_file)\n",
    "                    file.write(file_path + '\\n')\n",
    "\n",
    "# Example usage\n",
    "base_path = 'wav/set1/'\n",
    "index_wav_files(base_path)\n",
    "\n"
   ]
  },
  {
   "cell_type": "code",
   "execution_count": null,
   "id": "ce8d65b3-5279-49d3-8151-b99fc2c1f7d9",
   "metadata": {},
   "outputs": [],
   "source": []
  }
 ],
 "metadata": {
  "kernelspec": {
   "display_name": "Python 3",
   "language": "python",
   "name": "python3"
  },
  "language_info": {
   "codemirror_mode": {
    "name": "ipython",
    "version": 3
   },
   "file_extension": ".py",
   "mimetype": "text/x-python",
   "name": "python",
   "nbconvert_exporter": "python",
   "pygments_lexer": "ipython3",
   "version": "3.9.1"
  }
 },
 "nbformat": 4,
 "nbformat_minor": 5
}
